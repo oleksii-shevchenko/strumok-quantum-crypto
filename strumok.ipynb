{
 "cells": [
  {
   "cell_type": "markdown",
   "source": [
    "# STRUMOK and SNOW 2.0 implementations"
   ],
   "metadata": {
    "collapsed": false,
    "pycharm": {
     "name": "#%% md\n"
    }
   }
  },
  {
   "cell_type": "code",
   "execution_count": 1,
   "outputs": [],
   "source": [
    "from typing import Union\n",
    "from qiskit import Aer, QuantumCircuit, QuantumRegister, transpile, AncillaRegister\n",
    "from qiskit.circuit import Qubit, Instruction"
   ],
   "metadata": {
    "collapsed": false,
    "pycharm": {
     "name": "#%%\n"
    }
   }
  },
  {
   "cell_type": "code",
   "execution_count": 2,
   "outputs": [],
   "source": [
    "simulator = Aer.get_backend('qasm_simulator')\n",
    "simulator.base_gates = ['x', 'cx', 'h', 's', 't', 'tdg']"
   ],
   "metadata": {
    "collapsed": false,
    "pycharm": {
     "name": "#%%\n"
    }
   }
  },
  {
   "cell_type": "markdown",
   "source": [
    "## Utility Functions"
   ],
   "metadata": {
    "collapsed": false,
    "pycharm": {
     "name": "#%% md\n"
    }
   }
  },
  {
   "cell_type": "code",
   "execution_count": 3,
   "outputs": [],
   "source": [
    "def stats(circuit: QuantumCircuit, opt_level=4):\n",
    "    c = circuit.copy()\n",
    "    c.barrier()\n",
    "    for level in range(opt_level):\n",
    "        try:\n",
    "            print('Optimization Level {}'.format(level))\n",
    "            opt = transpile(c, simulator, optimization_level=level, basis_gates=['x', 'cx', 'h', 's', 't', 'tdg'])\n",
    "            print('Depth:', opt.depth())\n",
    "            print('Gate counts:', opt.count_ops())\n",
    "        except Exception as e:\n",
    "            print(e)\n",
    "            print()"
   ],
   "metadata": {
    "collapsed": false,
    "pycharm": {
     "name": "#%%\n"
    }
   }
  },
  {
   "cell_type": "code",
   "execution_count": 4,
   "outputs": [],
   "source": [
    "\"\"\"Load byte s-box\"\"\"\n",
    "def load_function_table(name: str) -> list:\n",
    "    file = open(name, 'r')\n",
    "    table = file.read().replace('\\n', ' ').split(' ')\n",
    "    file.close()\n",
    "    for x in range(len(table)):\n",
    "        table[x] = int(table[x], 16)\n",
    "    return table\n"
   ],
   "metadata": {
    "collapsed": false,
    "pycharm": {
     "name": "#%%\n"
    }
   }
  },
  {
   "cell_type": "code",
   "execution_count": 5,
   "outputs": [],
   "source": [
    "\"\"\"\n",
    "Fast Mobius Transform of the function with input\n",
    "and output of length 8. The function must be represented\n",
    "as table indexed by function input.\n",
    "\"\"\"\n",
    "def fmt(table: list) -> list:\n",
    "    anf = table.copy()\n",
    "    for i in range(8):\n",
    "        bit_flip = 1 << i\n",
    "        for j in range(1 << 8):\n",
    "            if (j >> i) & 0x1 != 0:\n",
    "                anf[j] = anf[j] ^ anf[j ^ bit_flip]\n",
    "    return anf"
   ],
   "metadata": {
    "collapsed": false,
    "pycharm": {
     "name": "#%%\n"
    }
   }
  },
  {
   "cell_type": "code",
   "execution_count": 6,
   "outputs": [],
   "source": [
    "def weight(x: int) -> int:\n",
    "    w = 0\n",
    "    for i in range(8):\n",
    "        w += ((x >> i) & 0x1)\n",
    "    return w\n"
   ],
   "metadata": {
    "collapsed": false,
    "pycharm": {
     "name": "#%%\n"
    }
   }
  },
  {
   "cell_type": "code",
   "execution_count": 7,
   "outputs": [],
   "source": [
    "\"\"\"\n",
    "Return list of the bits that are set in the vector\n",
    "that is represented as int. Considered only eight\n",
    "least significant bits.\n",
    "\"\"\"\n",
    "def vector_to_indices(vector: int) -> list:\n",
    "    indexes = []\n",
    "    for i in range(8):\n",
    "        if (vector >> i) & 0x1 == 0x1:\n",
    "            indexes.append(i)\n",
    "    return indexes"
   ],
   "metadata": {
    "collapsed": false,
    "pycharm": {
     "name": "#%%\n"
    }
   }
  },
  {
   "cell_type": "code",
   "execution_count": 8,
   "outputs": [],
   "source": [
    "\"\"\"\n",
    "Explode input registers return a flat\n",
    "structure (list of qubits preserving the\n",
    "order).\n",
    "\n",
    "Supported input types: Qubit, QuantumRegister or\n",
    "list of Qubits or QuantumRegisters\n",
    "\"\"\"\n",
    "def explode(*registers) -> list:\n",
    "    exploded = []\n",
    "    for reg in registers:\n",
    "        if isinstance(reg, list):\n",
    "            exploded.extend(explode(*reg))\n",
    "        elif isinstance(reg, dict):\n",
    "            print(*reg.values())\n",
    "            exploded.extend(explode(*reg.values()))\n",
    "        elif isinstance(reg, QuantumRegister):\n",
    "            for index in range(reg.size):\n",
    "                exploded.append(reg[index])\n",
    "        elif isinstance(reg, Qubit):\n",
    "            exploded.append(reg)\n",
    "        else:\n",
    "            raise Exception(\"Unexpected quantum storage type\")\n",
    "    return exploded\n"
   ],
   "metadata": {
    "collapsed": false,
    "pycharm": {
     "name": "#%%\n"
    }
   }
  },
  {
   "cell_type": "code",
   "execution_count": 9,
   "outputs": [],
   "source": [
    "def generate_byte_field(reduction_poly: int) -> list:\n",
    "    field = [0x1]\n",
    "    elem = 0x1\n",
    "    for _ in range(1, 1 << 8):\n",
    "        elem = elem << 1\n",
    "        if elem >> 8 == 0x1:\n",
    "            elem = (elem ^ reduction_poly) & 0xFF\n",
    "        field.append(elem)\n",
    "    return field"
   ],
   "metadata": {
    "collapsed": false,
    "pycharm": {
     "name": "#%%\n"
    }
   }
  },
  {
   "cell_type": "markdown",
   "source": [
    "## Base Circuits"
   ],
   "metadata": {
    "collapsed": false,
    "pycharm": {
     "name": "#%% md\n"
    }
   }
  },
  {
   "cell_type": "code",
   "execution_count": 10,
   "outputs": [],
   "source": [
    "\"\"\"\n",
    "Qubit-wise XOR.\n",
    "\n",
    "length - length of the quantum registers\n",
    "\n",
    "x, y - input quantum registers\n",
    "out - output quantum register\n",
    "\n",
    "Bra-ket representation: |x>|y>|out> -> |x>|y>|out ^ x ^ y>\n",
    "\"\"\"\n",
    "def xor_circuit(length: int) -> QuantumCircuit:\n",
    "    if length < 1:\n",
    "        raise Exception('Register length must be positive number')\n",
    "\n",
    "    x = QuantumRegister(length, 'x')\n",
    "    y = QuantumRegister(length, 'y')\n",
    "    out = QuantumRegister(length, 'out')\n",
    "\n",
    "    xor = QuantumCircuit(x, y, out, name=format(\"xor_%s\", str(length)))\n",
    "\n",
    "    for i in range(0, length):\n",
    "        xor.cx(x[i], out[i])\n",
    "        xor.cx(y[i], out[i])\n",
    "\n",
    "    return xor"
   ],
   "metadata": {
    "collapsed": false,
    "pycharm": {
     "name": "#%%\n"
    }
   }
  },
  {
   "cell_type": "code",
   "execution_count": 11,
   "outputs": [],
   "source": [
    "\"\"\"\n",
    "Qubit-wise inplace XOR (Multiqubit CNOT).\n",
    "\n",
    "length - length of the quantum registers\n",
    "\n",
    "ctr - input quantum registers\n",
    "trg - output quantum register\n",
    "\n",
    "Bra-key representation: |ctr>|trg> -> |ctr>|trg ^ ctr>\n",
    "\"\"\"\n",
    "def inplace_xor_circuit(length: int):\n",
    "    ctr = QuantumRegister(length, 'ctr')\n",
    "    trg = QuantumRegister(length, 'trg')\n",
    "\n",
    "    circuit = QuantumCircuit(ctr, trg, name='inplace_xor_' + str(length))\n",
    "\n",
    "    for i in range(length):\n",
    "        circuit.cx(ctr[i], trg[i])\n",
    "\n",
    "    return circuit"
   ],
   "metadata": {
    "collapsed": false,
    "pycharm": {
     "name": "#%%\n"
    }
   }
  },
  {
   "cell_type": "code",
   "execution_count": 12,
   "outputs": [],
   "source": [
    "\"\"\"\n",
    "Inverts all qubits in the quantum register.\n",
    "\n",
    "length - length of the quantum registers\n",
    "\n",
    "Bra-ket representation: |x> -> |~x>\n",
    "\"\"\"\n",
    "def not_circuit(length: int) -> QuantumCircuit:\n",
    "    x = QuantumRegister(length, 'x')\n",
    "\n",
    "    circuit = QuantumCircuit(x, name='not_' + str(length))\n",
    "\n",
    "    for i in range(length):\n",
    "        circuit.x(i)\n",
    "\n",
    "    return circuit"
   ],
   "metadata": {
    "collapsed": false,
    "pycharm": {
     "name": "#%%\n"
    }
   }
  },
  {
   "cell_type": "code",
   "execution_count": 13,
   "outputs": [],
   "source": [
    "\"\"\"\n",
    "Swaps two quantum registers.\n",
    "\n",
    "length - length of the quantum registers\n",
    "\n",
    "Bra-ket representation: |x>|y> -> |y>|x>\n",
    "\"\"\"\n",
    "def swap_circuit(length: int) -> QuantumCircuit:\n",
    "    x = QuantumRegister(length, 'x')\n",
    "    y = QuantumRegister(length, 'y')\n",
    "\n",
    "    circuit = QuantumCircuit(x, y, name='swap_' + str(length))\n",
    "\n",
    "    for i in range(length):\n",
    "        circuit.swap(x[i], y[i])\n",
    "\n",
    "    return circuit"
   ],
   "metadata": {
    "collapsed": false,
    "pycharm": {
     "name": "#%%\n"
    }
   }
  },
  {
   "cell_type": "code",
   "execution_count": 14,
   "outputs": [],
   "source": [
    "\"\"\"\n",
    "Reset quantum register. It is used to reset ancillary qubits.\n",
    "\n",
    "length - length of the quantum register\n",
    "\n",
    "Bra-ket representation: |x> -> |0>\n",
    "\"\"\"\n",
    "def reset_circuit(length: int) -> QuantumCircuit:\n",
    "    x = QuantumRegister(length, 'x')\n",
    "\n",
    "    circuit = QuantumCircuit(x, name='reset_' + str(length))\n",
    "\n",
    "    for i in range(length):\n",
    "        circuit.reset(x[i])\n",
    "\n",
    "    return circuit"
   ],
   "metadata": {
    "collapsed": false,
    "pycharm": {
     "name": "#%%\n"
    }
   }
  },
  {
   "cell_type": "code",
   "execution_count": 15,
   "outputs": [],
   "source": [
    "\"\"\"\n",
    "Base full adder quantum circuit.\n",
    "\n",
    "Qubits: 0 - x, 1 - y, 2 - carry, 3 - out\n",
    "\n",
    "Bra-ket representation:\n",
    "|x>|y>|carry>|out> -> |x>|y>|(x + y + carry) / 2>|out ^ ((x + y + carry) % 2)>\n",
    "\"\"\"\n",
    "def base_full_adder() -> QuantumCircuit:\n",
    "     full_adder = QuantumCircuit(4, name='full_adder')\n",
    "     full_adder.ccx(0, 1, 3)\n",
    "     full_adder.cx(0, 1)\n",
    "     full_adder.ccx(1, 2, 3)\n",
    "     full_adder.cx(1, 2)\n",
    "     full_adder.cx(0, 1)\n",
    "     full_adder.swap(2, 3)\n",
    "     return full_adder"
   ],
   "metadata": {
    "collapsed": false,
    "pycharm": {
     "name": "#%%\n"
    }
   }
  },
  {
   "cell_type": "code",
   "execution_count": 16,
   "outputs": [],
   "source": [
    "\"\"\"\n",
    "Full adder quantum circuit.\n",
    "\n",
    "Expected carry qubit to be in |0> state at the beginning.\n",
    "\n",
    "Leave the carry qubit in dirty state\n",
    "\"\"\"\n",
    "def full_adder_circuit(length: int) -> QuantumCircuit:\n",
    "    if length < 1:\n",
    "        raise Exception('Register length must be positive number')\n",
    "\n",
    "    if length == 1:\n",
    "        return base_full_adder()\n",
    "\n",
    "    base_adder = base_full_adder().to_instruction()\n",
    "\n",
    "    x = QuantumRegister(length, 'x')\n",
    "    y = QuantumRegister(length, 'y')\n",
    "    out = QuantumRegister(length, 'out')\n",
    "    carry = AncillaRegister(1, 'carry')\n",
    "\n",
    "    adder = QuantumCircuit(x, y, out, carry, name=format(\"add_%s\", str(length)))\n",
    "\n",
    "    for i in range(0, length):\n",
    "        adder.append(base_adder, [x[i], y[i], carry[0], out[i]])\n",
    "\n",
    "    return adder"
   ],
   "metadata": {
    "collapsed": false,
    "pycharm": {
     "name": "#%%\n"
    }
   }
  },
  {
   "cell_type": "code",
   "execution_count": 17,
   "outputs": [],
   "source": [
    "\"\"\"\n",
    "S-box quantum circuit created from ANF. Accepted only\n",
    "function with input and output of eight length.\n",
    "\n",
    "anf - table of ANF coefficients index by input variables\n",
    "box_name - s-box string name\n",
    "\n",
    "Quantum registers: x, out\n",
    "\"\"\"\n",
    "def s_box_circuit(anf: list, box_name: str) -> QuantumCircuit:\n",
    "    assert len(anf) == (1 << 8)\n",
    "\n",
    "    x = QuantumRegister(8, 'x')\n",
    "    out = QuantumRegister(8, 'out')\n",
    "    ancilla = AncillaRegister(6, 'ancilla')\n",
    "\n",
    "    circuit = QuantumCircuit(x, out, ancilla, name=\"s_box_\" + box_name)\n",
    "\n",
    "    for i in range(1 << 8):\n",
    "        if anf[i] != 0:\n",
    "            in_weight = weight(i)\n",
    "            in_indexes = vector_to_indices(i)\n",
    "            for out_index in vector_to_indices(anf[i]):\n",
    "                if in_weight == 0:\n",
    "                    circuit.x(out[out_index])\n",
    "                elif in_weight == 1:\n",
    "                    circuit.cx(x[in_indexes[0]], out[out_index])\n",
    "                elif in_weight == 2:\n",
    "                    circuit.ccx(x[in_indexes[0]], x[in_indexes[1]], out[out_index])\n",
    "                else:\n",
    "                    circuit.mcx(x[in_indexes], out[out_index], ancilla, 'v-chain')\n",
    "\n",
    "    return circuit"
   ],
   "metadata": {
    "collapsed": false,
    "pycharm": {
     "name": "#%%\n"
    }
   }
  },
  {
   "cell_type": "code",
   "execution_count": 18,
   "outputs": [],
   "source": [
    "\"\"\"\n",
    "General quantum circuit for multiplication\n",
    "in field GF(2^8).\n",
    "\n",
    "Parameters:\n",
    "reduction_circuit - quantum circuit of inplace reduction\n",
    "of high degree polynomial components\n",
    "\n",
    "Registers: x, y, out - of length 8\n",
    "\"\"\"\n",
    "def mult_f8_circuit(reduction_circuit: Union[QuantumCircuit, Instruction]) -> QuantumCircuit:\n",
    "    x = QuantumRegister(8, 'x')\n",
    "    y = QuantumRegister(8, 'y')\n",
    "    out = QuantumRegister(8, 'out')\n",
    "\n",
    "    mult = QuantumCircuit(x, y, out, name='mult_f8')\n",
    "\n",
    "    for i in range(1, 8):\n",
    "        for j in range(8 - i):\n",
    "            mult.ccx(x[i + j], y[7 - j], out[i - 1])\n",
    "\n",
    "    mult.append(reduction_circuit, qargs=explode(out))\n",
    "\n",
    "    for i in range(8):\n",
    "        for j in range(i + 1):\n",
    "            mult.ccx(x[j], y[i - j], out[i])\n",
    "\n",
    "    return mult"
   ],
   "metadata": {
    "collapsed": false,
    "pycharm": {
     "name": "#%%\n"
    }
   }
  },
  {
   "cell_type": "code",
   "execution_count": 19,
   "outputs": [],
   "source": [
    "\"\"\"\n",
    "Specific quantum circuit for multiplication\n",
    "in field GF(2^8) by constant field element.\n",
    "\n",
    "Parameters:\n",
    "reduction_circuit - quantum circuit of inplace reduction\n",
    "of high degree polynomial components\n",
    "constant - element of GF(2^8)\n",
    "name - element name\n",
    "\n",
    "Registers: x, out - of length 8\n",
    "\"\"\"\n",
    "def mult_const_f8_circuit(reduction_circuit: Union[QuantumCircuit, Instruction],\n",
    "                          constant: int,\n",
    "                          name=None) -> QuantumCircuit:\n",
    "\n",
    "    x = QuantumRegister(8, 'x')\n",
    "    out = QuantumRegister(8, 'out')\n",
    "\n",
    "    if constant == 0x01:\n",
    "        copy_circuit = QuantumCircuit(x, out, name='mult_identity_f8')\n",
    "        for i in range(8):\n",
    "            copy_circuit.cx(x[i], out[i])\n",
    "        return copy_circuit\n",
    "\n",
    "    const_vector = []\n",
    "    for i in range(8):\n",
    "        const_vector.append((constant >> i) & 0x1)\n",
    "\n",
    "    if name is None:\n",
    "        name = hex(constant)\n",
    "\n",
    "    mult = QuantumCircuit(x, out, name='mult_f8_' + name)\n",
    "\n",
    "    for i in range(1, 8):\n",
    "        for j in range(8 - i):\n",
    "            if const_vector[i + j] == 0x1:\n",
    "                mult.cx(x[7 - j], out[i - 1])\n",
    "\n",
    "    mult.append(reduction_circuit, qargs=explode(out))\n",
    "\n",
    "    for i in range(8):\n",
    "        for j in range(i + 1):\n",
    "            if const_vector[j] == 0x1:\n",
    "                mult.cx(x[i - j], out[i])\n",
    "\n",
    "    return mult"
   ],
   "metadata": {
    "collapsed": false,
    "pycharm": {
     "name": "#%%\n"
    }
   }
  },
  {
   "cell_type": "markdown",
   "source": [
    "## STRUMOK circuits"
   ],
   "metadata": {
    "collapsed": false,
    "pycharm": {
     "name": "#%% md\n"
    }
   }
  },
  {
   "cell_type": "code",
   "execution_count": 20,
   "outputs": [],
   "source": [
    "\"\"\"\n",
    "Quantum circuit for performing in place\n",
    "reduction of high polynomial components\n",
    "during multiplication in filed GF(2^8).\n",
    "\n",
    "Input-output size: 8\n",
    "\"\"\"\n",
    "def strumok_qt_reduction_circuit() -> QuantumCircuit:\n",
    "    qt = QuantumCircuit(8, name=\"qt_reduction\")\n",
    "\n",
    "    qt.cx(4, 0)\n",
    "    qt.cx(5, 0)\n",
    "    qt.cx(6, 0)\n",
    "    qt.cx(5, 1)\n",
    "    qt.cx(6, 1)\n",
    "    qt.cx(6, 2)\n",
    "\n",
    "    #qt.barrier()\n",
    "\n",
    "    qt.cx(5, 7)\n",
    "    qt.cx(4, 7)\n",
    "    qt.cx(4, 6)\n",
    "    qt.cx(3, 7)\n",
    "    qt.cx(3, 6)\n",
    "    qt.cx(3, 5)\n",
    "    qt.cx(2, 6)\n",
    "    qt.cx(2, 5)\n",
    "    qt.cx(2, 4)\n",
    "    qt.cx(1, 5)\n",
    "    qt.cx(1, 4)\n",
    "    qt.cx(1, 3)\n",
    "    qt.cx(0, 4)\n",
    "    qt.cx(0, 3)\n",
    "    qt.cx(0, 2)\n",
    "\n",
    "    return qt"
   ],
   "metadata": {
    "collapsed": false,
    "pycharm": {
     "name": "#%%\n"
    }
   }
  },
  {
   "cell_type": "code",
   "execution_count": 21,
   "outputs": [],
   "source": [
    "# Generating STRUMOK field GF(2^8) index by reduction\n",
    "# polynomial root\n",
    "\n",
    "strumok_reduction_poly = 0b00011101\n",
    "strumok_field = generate_byte_field(strumok_reduction_poly)"
   ],
   "metadata": {
    "collapsed": false,
    "pycharm": {
     "name": "#%%\n"
    }
   }
  },
  {
   "cell_type": "code",
   "execution_count": 22,
   "outputs": [],
   "source": [
    "def strumok_mult_alpha_circuit() -> QuantumCircuit:\n",
    "    str_qt_reduction = strumok_qt_reduction_circuit().to_instruction()\n",
    "    add_f8 = inplace_xor_circuit(8).to_instruction()\n",
    "\n",
    "    xs = [QuantumRegister(8, 'x_' + str(i)) for i in range(8)]\n",
    "    outs = [QuantumRegister(8, 'out_' + str(i)) for i in range(8)]\n",
    "\n",
    "    registers = []\n",
    "    registers.extend(xs)\n",
    "    registers.extend(outs)\n",
    "\n",
    "    circuit = QuantumCircuit(*registers, name='mult_alpha_f64')\n",
    "\n",
    "    circuit.append(mult_const_f8_circuit(str_qt_reduction, strumok_field[2  ], 'b^2'  ), qargs=explode(xs[7], outs[0]))\n",
    "    circuit.append(mult_const_f8_circuit(str_qt_reduction, strumok_field[70 ], 'b^70' ), qargs=explode(xs[7], outs[3]))\n",
    "    circuit.append(mult_const_f8_circuit(str_qt_reduction, strumok_field[224], 'b^224'), qargs=explode(xs[7], outs[4]))\n",
    "    circuit.append(add_f8, qargs=explode(outs[0], outs[5]))\n",
    "    circuit.append(mult_const_f8_circuit(str_qt_reduction, strumok_field[166], 'b^166'), qargs=explode(xs[7], outs[6]))\n",
    "    circuit.append(mult_const_f8_circuit(str_qt_reduction, strumok_field[170], 'b^170'), qargs=explode(xs[7], outs[7]))\n",
    "\n",
    "    for i in range(7):\n",
    "        circuit.append(add_f8, qargs=explode(xs[i], outs[i + 1]))\n",
    "\n",
    "    return circuit"
   ],
   "metadata": {
    "collapsed": false,
    "pycharm": {
     "name": "#%%\n"
    }
   }
  },
  {
   "cell_type": "code",
   "execution_count": 23,
   "outputs": [],
   "source": [
    "def strumok_mult_inv_alpha_circuit() -> QuantumCircuit:\n",
    "    str_qt_reduction = strumok_qt_reduction_circuit()\n",
    "    add_f8 = inplace_xor_circuit(8).to_instruction()\n",
    "\n",
    "    xs = [QuantumRegister(8, 'x_' + str(i)) for i in range(8)]\n",
    "    outs = [QuantumRegister(8, 'out_' + str(i)) for i in range(8)]\n",
    "\n",
    "    registers = []\n",
    "    registers.extend(xs)\n",
    "    registers.extend(outs)\n",
    "\n",
    "    circuit = QuantumCircuit(*registers, name='mult_inv_alpha_f64')\n",
    "\n",
    "    circuit.append(mult_const_f8_circuit(str_qt_reduction, strumok_field[68 ], 'b^68' ), qargs=explode(xs[0], outs[2]))\n",
    "    circuit.append(mult_const_f8_circuit(str_qt_reduction, strumok_field[222], 'b^222'), qargs=explode(xs[0], outs[3]))\n",
    "    circuit.append(add_f8, qargs=explode(xs[0], outs[4]))\n",
    "    circuit.append(mult_const_f8_circuit(str_qt_reduction, strumok_field[164], 'b^164'), qargs=explode(xs[0], outs[5]))\n",
    "    circuit.append(mult_const_f8_circuit(str_qt_reduction, strumok_field[168], 'b^168'), qargs=explode(xs[0], outs[6]))\n",
    "    circuit.append(mult_const_f8_circuit(str_qt_reduction, strumok_field[253], 'b^253'), qargs=explode(xs[0], outs[7]))\n",
    "\n",
    "    for i in range(7):\n",
    "        circuit.append(add_f8, qargs=explode(xs[i + 1], outs[i]))\n",
    "\n",
    "    return circuit"
   ],
   "metadata": {
    "collapsed": false,
    "pycharm": {
     "name": "#%%\n"
    }
   }
  },
  {
   "cell_type": "code",
   "execution_count": 24,
   "outputs": [],
   "source": [
    "L = [[0x01, 0x01, 0x05, 0x01, 0x08, 0x6, 0x07, 0x04],\n",
    "    [0x04, 0x01, 0x01, 0x05, 0x01, 0x08, 0x06, 0x07],\n",
    "    [0x07, 0x04, 0x01, 0x01, 0x05, 0x01, 0x08, 0x06],\n",
    "    [0x06, 0x07, 0x04, 0x01, 0x01, 0x05, 0x01, 0x08],\n",
    "    [0x08, 0x06, 0x07, 0x04, 0x01, 0x01, 0x05, 0x01],\n",
    "    [0x01, 0x08, 0x06, 0x07, 0x04, 0x01, 0x01, 0x05],\n",
    "    [0x05, 0x01, 0x08, 0x06, 0x07, 0x04, 0x01, 0x01],\n",
    "    [0x01, 0x05, 0x01, 0x08, 0x06, 0x07, 0x04, 0x01]]"
   ],
   "metadata": {
    "collapsed": false,
    "pycharm": {
     "name": "#%%\n"
    }
   }
  },
  {
   "cell_type": "code",
   "execution_count": 25,
   "outputs": [],
   "source": [
    "# Clean ancilla qubits\n",
    "def strumok_substitution_circuit() -> QuantumCircuit:\n",
    "    x = [QuantumRegister(8, 'x_' + str(i)) for i in range(8)]\n",
    "    out = [QuantumRegister(8, 'out_' + str(i)) for i in range(8)]\n",
    "    ancilla = AncillaRegister(6, 'ancilla')\n",
    "    tmp = AncillaRegister(8, 'tmp')\n",
    "\n",
    "    regs = []\n",
    "    regs.extend(x)\n",
    "    regs.extend(out)\n",
    "    regs.append(tmp)\n",
    "    regs.append(ancilla)\n",
    "\n",
    "    circuit = QuantumCircuit(*regs, name='strumok_tau')\n",
    "\n",
    "    for i in range(8):\n",
    "        index = i % 4\n",
    "        s_box = s_box_circuit(fmt(load_function_table('./sbox/strumok/pi_' + str(index) + '.txt')), str(index))\n",
    "\n",
    "        circuit.append(s_box, qargs=explode(x[i], tmp, ancilla))\n",
    "\n",
    "        for j in range(8):\n",
    "            circuit.append(mult_const_f8_circuit(strumok_qt_reduction_circuit(), L[j][i]), qargs=explode(tmp, out[j]))\n",
    "\n",
    "        # Must return tmp register to initial state\n",
    "        circuit.append(s_box.inverse(), qargs=explode(x[i], tmp, ancilla))\n",
    "\n",
    "    return circuit"
   ],
   "metadata": {
    "collapsed": false,
    "pycharm": {
     "name": "#%%\n"
    }
   }
  },
  {
   "cell_type": "code",
   "execution_count": 26,
   "outputs": [],
   "source": [
    "def strumok_fsm_circuit() -> QuantumCircuit:\n",
    "    x = QuantumRegister(64, 'x')\n",
    "    y = QuantumRegister(64, 'y')\n",
    "    z = QuantumRegister(64, 'z')\n",
    "    out = QuantumRegister(64, 'out')\n",
    "    carry = QuantumRegister(1, 'carry')\n",
    "\n",
    "    circuit = QuantumCircuit(x, y, z, out, carry, name='strumok_fsm')\n",
    "    circuit.append(full_adder_circuit(64), qargs=explode(x, y, z, carry))\n",
    "    circuit.append(inplace_xor_circuit(64), qargs=explode(z, out))\n",
    "\n",
    "    # Return z and carry to initial state\n",
    "    circuit.append(full_adder_circuit(64).inverse(), qargs=explode(x, y, z, carry))\n",
    "\n",
    "    return circuit\n"
   ],
   "metadata": {
    "collapsed": false,
    "pycharm": {
     "name": "#%%\n"
    }
   }
  },
  {
   "cell_type": "code",
   "execution_count": 27,
   "outputs": [],
   "source": [
    "\"\"\"\n",
    "Next function of STRUMOK-256 stream cipher\n",
    "\n",
    "Parameters:\n",
    "init_mode - boolean flag used to specify NEXT function mode\n",
    "\n",
    "Quantum Register:\n",
    "s - register that stores LFSR state (length 16 * 64 qubits)\n",
    "r_1 - register of FSM (length 64 qubits)\n",
    "r_2 - register of FSM (length 64 qubits)\n",
    "tmp - temporary register of length 64 qubits\n",
    "carry - temporary qubit for storing carry bit during addition\n",
    "\"\"\"\n",
    "def strumok_next_circuit(init_mode=False) -> QuantumCircuit:\n",
    "    swap_64 = swap_circuit(64).to_instruction()\n",
    "    iadd_f64 = inplace_xor_circuit(64).to_instruction()\n",
    "\n",
    "    # Linear Feedback Shift Register State\n",
    "    s = [QuantumRegister(64, 's_' + str(i)) for i in range(16)]\n",
    "\n",
    "    # Finite State Machine\n",
    "    r_1 = QuantumRegister(64, 'r_1')\n",
    "    r_2 = QuantumRegister(64, 'r_2')\n",
    "\n",
    "    # Dirty Ancillary State\n",
    "    dirty_carry = QuantumRegister(1, 'dirty_carry')\n",
    "    dirty_r_1 = QuantumRegister(64, 'dirty_r_1')\n",
    "    dirty_r_2 = QuantumRegister(64, 'dirty_r_2')\n",
    "    dirty_s_0 = QuantumRegister(64, 'dirty_s_0')\n",
    "\n",
    "    # Ancillary State\n",
    "    temp = QuantumRegister(64, 'temp')\n",
    "    carry = QuantumRegister(1, 'carry')\n",
    "\n",
    "    # Circuit Input\n",
    "    regs = []\n",
    "\n",
    "    regs.extend(s)\n",
    "    regs.append(r_1)\n",
    "    regs.append(r_2)\n",
    "    regs.append(temp)\n",
    "    regs.append(carry)\n",
    "\n",
    "    regs.append(dirty_carry)\n",
    "    regs.append(dirty_s_0)\n",
    "    regs.append(dirty_r_1)\n",
    "    regs.append(dirty_r_2)\n",
    "\n",
    "    circuit = QuantumCircuit(*regs, name='strumok_next')\n",
    "\n",
    "    circuit.append(swap_64, qargs=explode(dirty_r_2, r_2))\n",
    "    circuit.append(strumok_substitution_circuit(), qargs=explode(r_1, r_2, temp[0:8], temp[8:8 + 6]))\n",
    "\n",
    "    circuit.append(swap_64, qargs=explode(r_1, dirty_r_1))\n",
    "    circuit.append(full_adder_circuit(64), qargs=explode(r_2, s[13], r_1, dirty_carry[0]))\n",
    "\n",
    "    circuit.append(iadd_f64, qargs=explode(s[13], temp))\n",
    "    circuit.append(strumok_mult_alpha_circuit(), qargs=explode(s[0], temp))\n",
    "    circuit.append(strumok_mult_inv_alpha_circuit(), qargs=explode(s[11], temp))\n",
    "\n",
    "    if init_mode:\n",
    "        circuit.append(strumok_fsm_circuit(), qargs=explode(s[15], r_1, r_2, temp, carry[0]))\n",
    "\n",
    "    # After this rotation s[i] -> s[i - 1], where s[0] -> s[15]\n",
    "    for j in range(14, -1, -1):\n",
    "        circuit.append(swap_64, explode(s[15], s[j]))\n",
    "\n",
    "    circuit.append(swap_64, qargs=explode(s[15], temp))\n",
    "    circuit.append(swap_64, qargs=explode(temp, dirty_s_0))\n",
    "\n",
    "    return circuit"
   ],
   "metadata": {
    "collapsed": false,
    "pycharm": {
     "name": "#%%\n"
    }
   }
  },
  {
   "cell_type": "code",
   "execution_count": 28,
   "outputs": [],
   "source": [
    "\"\"\"\n",
    "Init function of STRUMOK-256 stream cipher\n",
    "\n",
    "Quantum Register:\n",
    "key - register that stores cipher key of length 256 qubit\n",
    "iv - register that stores cipher iv of length 256\n",
    "s - register that stores LFSR state (length 16 * 64 qubits)\n",
    "r_1 - register of FSM (length 64 qubits)\n",
    "r_2 - register of FSM (length 64 qubits)\n",
    "tmp - temporary register of length 64 qubits\n",
    "carry - temporary qubit for storing carry bit during addition\n",
    "\"\"\"\n",
    "def strumok_init_256_circuit() -> QuantumCircuit:\n",
    "    not_64 = not_circuit(64).to_instruction()\n",
    "    cnot_64 = inplace_xor_circuit(64).to_instruction()\n",
    "\n",
    "    strumok_next_init = strumok_next_circuit(True).to_instruction()\n",
    "    strumok_next_strm = strumok_next_circuit(False).to_instruction()\n",
    "\n",
    "    # Cipher Input\n",
    "    key = [QuantumRegister(64, 'k_' + str(i)) for i in range(4)]\n",
    "    iv = [QuantumRegister(64, 'iv_' + str(i)) for i in range(4)]\n",
    "\n",
    "    # Linear Feedback Shift Register State\n",
    "    s = [QuantumRegister(64, 's_' + str(i)) for i in range(16)]\n",
    "\n",
    "    # Finite State Machine\n",
    "    r_1 = QuantumRegister(64, 'r_1')\n",
    "    r_2 = QuantumRegister(64, 'r_2')\n",
    "\n",
    "    # Ancillary State\n",
    "    tmp = QuantumRegister(64, 'tmp')\n",
    "    carry = QuantumRegister(1, 'carry')\n",
    "\n",
    "    # Dirty Ancillary State\n",
    "    dirty_carries = {i: QuantumRegister(1, 'dirty_carry_' + str(i)) for i in range(-33, 0)}\n",
    "    dirty_r_1s = {i: QuantumRegister(64, 'dirty_r_1_' + str(i)) for i in range(-33, 0)}\n",
    "    dirty_r_2s = {i: QuantumRegister(64, 'dirty_r_2_' + str(i)) for i in range(-33, 0)}\n",
    "    dirty_s_0s = {i: QuantumRegister(64, 'dirty_s_0_' + str(i)) for i in range(-33, 0)}\n",
    "\n",
    "    # Circuit Input\n",
    "    regs = []\n",
    "    regs.extend(key)\n",
    "    regs.extend(iv)\n",
    "    regs.extend(s)\n",
    "    regs.append(r_1)\n",
    "    regs.append(r_2)\n",
    "    regs.append(tmp)\n",
    "    regs.append(carry)\n",
    "    regs.extend(dirty_carries.values())\n",
    "    regs.extend(dirty_r_1s.values())\n",
    "    regs.extend(dirty_r_2s.values())\n",
    "    regs.extend(dirty_s_0s.values())\n",
    "\n",
    "    circuit = QuantumCircuit(*regs, name='strumok_init')\n",
    "\n",
    "    circuit.append(cnot_64, qargs=explode(key[0], s[15]))\n",
    "    circuit.append(not_64, qargs=explode(s[15]))\n",
    "    circuit.append(cnot_64, qargs=explode(key[1], s[14]))\n",
    "    circuit.append(cnot_64, qargs=explode(key[2], s[13]))\n",
    "    circuit.append(not_64, qargs=explode(s[13]))\n",
    "    circuit.append(cnot_64, qargs=explode(key[3], s[12]))\n",
    "    circuit.append(cnot_64, qargs=explode(key[0], s[11]))\n",
    "    circuit.append(cnot_64, qargs=explode(key[1], s[10]))\n",
    "    circuit.append(not_64, qargs=explode(s[10]))\n",
    "    circuit.append(cnot_64, qargs=explode(key[2], s[9]))\n",
    "    circuit.append(cnot_64, qargs=explode(key[3], s[8]))\n",
    "    circuit.append(cnot_64, qargs=explode(key[0], s[7]))\n",
    "    circuit.append(not_64, qargs=explode(s[7]))\n",
    "    circuit.append(cnot_64, qargs=explode(key[1], s[6]))\n",
    "    circuit.append(not_64, qargs=explode(s[6]))\n",
    "    circuit.append(cnot_64, qargs=explode(key[2], s[5]))\n",
    "    circuit.append(cnot_64, qargs=explode(iv[3], s[5]))\n",
    "    circuit.append(cnot_64, qargs=explode(key[3], s[4]))\n",
    "    circuit.append(cnot_64, qargs=explode(key[0], s[3]))\n",
    "    circuit.append(cnot_64, qargs=explode(iv[2], s[3]))\n",
    "    circuit.append(cnot_64, qargs=explode(key[1], s[2]))\n",
    "    circuit.append(cnot_64, qargs=explode(iv[1], s[2]))\n",
    "    circuit.append(cnot_64, qargs=explode(key[2], s[1]))\n",
    "    circuit.append(cnot_64, qargs=explode(key[3], s[0]))\n",
    "    circuit.append(cnot_64, qargs=explode(iv[3], s[0]))\n",
    "\n",
    "    for i in range(-33, -1):\n",
    "        circuit.append(strumok_next_init, qargs=explode(\n",
    "            s,\n",
    "            r_1,\n",
    "            r_2,\n",
    "            tmp,\n",
    "            carry,\n",
    "            dirty_carries[i],\n",
    "            dirty_s_0s[i],\n",
    "            dirty_r_1s[i],\n",
    "            dirty_r_2s[i])\n",
    "        )\n",
    "\n",
    "    circuit.append(strumok_next_strm, qargs=explode(\n",
    "            s,\n",
    "            r_1,\n",
    "            r_2,\n",
    "            tmp,\n",
    "            carry,\n",
    "            dirty_carries[-1],\n",
    "            dirty_s_0s[-1],\n",
    "            dirty_r_1s[-1],\n",
    "            dirty_r_2s[-1])\n",
    "        )\n",
    "\n",
    "    return circuit"
   ],
   "metadata": {
    "collapsed": false,
    "pycharm": {
     "name": "#%%\n"
    }
   }
  },
  {
   "cell_type": "code",
   "execution_count": 29,
   "outputs": [],
   "source": [
    "def strumok_stream_circuit() -> QuantumCircuit:\n",
    "    # Linear Feedback Shift Register State\n",
    "    s = [QuantumRegister(64, 's_' + str(i)) for i in range(16)]\n",
    "\n",
    "    # Finite State Machine\n",
    "    r_1 = QuantumRegister(64, 'r_1')\n",
    "    r_2 = QuantumRegister(64, 'r_2')\n",
    "\n",
    "    # Ancillary State\n",
    "    carry = QuantumRegister(1, 'carry')\n",
    "\n",
    "    # Stream output\n",
    "    out = QuantumRegister(64, 'out')\n",
    "\n",
    "    # Circuit Input\n",
    "    regs = []\n",
    "    regs.extend(s)\n",
    "    regs.append(r_1)\n",
    "    regs.append(r_2)\n",
    "    regs.append(carry)\n",
    "    regs.append(out)\n",
    "\n",
    "    circuit = QuantumCircuit(*regs, name='strumok_next')\n",
    "    circuit.append(inplace_xor_circuit(64), qargs=explode(s[0], out))\n",
    "    circuit.append(strumok_fsm_circuit(), qargs=explode(s[15], r_1, r_2, out, carry))\n",
    "\n",
    "    return circuit"
   ],
   "metadata": {
    "collapsed": false,
    "pycharm": {
     "name": "#%%\n"
    }
   }
  }
 ],
 "metadata": {
  "kernelspec": {
   "display_name": "Python 3",
   "language": "python",
   "name": "python3"
  },
  "language_info": {
   "codemirror_mode": {
    "name": "ipython",
    "version": 2
   },
   "file_extension": ".py",
   "mimetype": "text/x-python",
   "name": "python",
   "nbconvert_exporter": "python",
   "pygments_lexer": "ipython2",
   "version": "2.7.6"
  }
 },
 "nbformat": 4,
 "nbformat_minor": 0
}